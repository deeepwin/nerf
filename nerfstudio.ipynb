{
 "cells": [
  {
   "attachments": {},
   "cell_type": "markdown",
   "metadata": {},
   "source": [
    "# Create 3D Models with Nerf Studio from iPad with Camera"
   ]
  },
  {
   "attachments": {},
   "cell_type": "markdown",
   "metadata": {},
   "source": [
    "Author: Deeepwin  \n",
    "Date: 18.03.2023 \n",
    "***"
   ]
  },
  {
   "attachments": {},
   "cell_type": "markdown",
   "metadata": {},
   "source": [
    "## Installation"
   ]
  },
  {
   "attachments": {},
   "cell_type": "markdown",
   "metadata": {},
   "source": [
    "This installation instructions explains in how to install Nerfstudio in a Conda enviroment that has a separte CUDA installtion. It makes the installation of Nerfstudio a bit more tricky. In my case I have installed CUDA version 11.3 in Conda which I want to use for this project. The Conda environment is called `points`. On the Ubuntu installation I run CUDA 12.1."
   ]
  },
  {
   "attachments": {},
   "cell_type": "markdown",
   "metadata": {},
   "source": [
    "### Checking CUDA Installation"
   ]
  },
  {
   "attachments": {},
   "cell_type": "markdown",
   "metadata": {},
   "source": [
    "Make sure you have installed CUDA toolkit in Conda."
   ]
  },
  {
   "cell_type": "code",
   "execution_count": null,
   "metadata": {},
   "outputs": [],
   "source": [
    "!conda install -c \"nvidia/label/cuda-11.3.1\" cuda-toolkit\n",
    "!conda install -c \"nvidia/label/cuda-11.3.1\" cuda-nvcc"
   ]
  },
  {
   "cell_type": "code",
   "execution_count": null,
   "metadata": {},
   "outputs": [],
   "source": [
    "# check CUDA versions, must be 11.3.1\n",
    "!conda list cudatoolkit\n",
    "!conda list cudnn\n",
    "!conda list cuda-nvcc"
   ]
  },
  {
   "cell_type": "code",
   "execution_count": null,
   "metadata": {},
   "outputs": [],
   "source": [
    "# check Pytorch version, must be 1.13.1\n",
    "torch_version = !pip show torch\n",
    "torch_version[1]"
   ]
  },
  {
   "attachments": {},
   "cell_type": "markdown",
   "metadata": {},
   "source": [
    "### Setup Tiny CUDA NN"
   ]
  },
  {
   "attachments": {},
   "cell_type": "markdown",
   "metadata": {},
   "source": [
    "For CUDA version 11.3 you need g++ version 9 (max version is 10.2.1), see [here](https://stackoverflow.com/questions/6622454/cuda-incompatible-with-my-gcc-version). General instructions in how to setup different versions of g++ can be found [here](https://tuxamito.com/wiki/index.php/Installing_newer_GCC_versions_in_Ubuntu)."
   ]
  },
  {
   "cell_type": "code",
   "execution_count": null,
   "metadata": {},
   "outputs": [],
   "source": [
    "!sudo apt -y install g++-9\n",
    "!sudo update-alternatives --install /usr/bin/g++ g++ /usr/bin/g++-9 9\n",
    "!sudo update-alternatives --config g++\n",
    "!g++ --version"
   ]
  },
  {
   "cell_type": "code",
   "execution_count": null,
   "metadata": {},
   "outputs": [],
   "source": [
    "!sudo apt -y install gcc-9\n",
    "!sudo update-alternatives --install /usr/bin/gcc gcc /usr/bin/gcc-9 9\n",
    "!sudo update-alternatives --config gcc\n",
    "!gcc --version"
   ]
  },
  {
   "attachments": {},
   "cell_type": "markdown",
   "metadata": {},
   "source": [
    "Now set CUDA_HOME enviroment variable. Otherwise you cannot install `tiny-cuda-nn`. Update path according to your Conda installation."
   ]
  },
  {
   "cell_type": "code",
   "execution_count": null,
   "metadata": {},
   "outputs": [],
   "source": [
    "!conda env config vars set CUDA_HOME=\"/home/martin/anaconda3/envs/points/lib/\"\n",
    "!conda env config vars list"
   ]
  },
  {
   "attachments": {},
   "cell_type": "markdown",
   "metadata": {},
   "source": [
    "Install `tiny-cuda-nn`"
   ]
  },
  {
   "cell_type": "code",
   "execution_count": null,
   "metadata": {},
   "outputs": [],
   "source": [
    "!pip install git+https://github.com/NVlabs/tiny-cuda-nn/#subdirectory=bindings/torch"
   ]
  },
  {
   "attachments": {},
   "cell_type": "markdown",
   "metadata": {},
   "source": [
    "Finally install Nerfstudio see [website](https://docs.nerf.studio/en/latest/quickstart/installation.html)."
   ]
  },
  {
   "cell_type": "code",
   "execution_count": null,
   "metadata": {},
   "outputs": [],
   "source": [
    "!pip install nerfstudio"
   ]
  },
  {
   "cell_type": "markdown",
   "metadata": {},
   "source": [
    "Pytorch automatically installs nvidia_cublas_cu11, which will cause an error in the installation of Nerfstudio. That's why we need to remove it here."
   ]
  },
  {
   "cell_type": "code",
   "execution_count": null,
   "metadata": {},
   "outputs": [],
   "source": [
    "!pip uninstall -y nvidia_cublas_cu11"
   ]
  },
  {
   "attachments": {},
   "cell_type": "markdown",
   "metadata": {},
   "source": [
    "For viszalization we use Open3D."
   ]
  },
  {
   "cell_type": "code",
   "execution_count": null,
   "metadata": {},
   "outputs": [],
   "source": [
    "!pip install open3d"
   ]
  },
  {
   "attachments": {},
   "cell_type": "markdown",
   "metadata": {},
   "source": [
    "## Train Model from Nerfstudio"
   ]
  },
  {
   "cell_type": "code",
   "execution_count": null,
   "metadata": {},
   "outputs": [],
   "source": [
    "%%capture\n",
    "# download data from nerfstudio\n",
    "!ns-download-data nerfstudio --capture-name=poster"
   ]
  },
  {
   "cell_type": "code",
   "execution_count": null,
   "metadata": {},
   "outputs": [],
   "source": [
    "# train from scratch\n",
    "!ns-train nerfacto --data data/nerfstudio/poster"
   ]
  },
  {
   "cell_type": "code",
   "execution_count": null,
   "metadata": {},
   "outputs": [],
   "source": [
    "# export as point cloud, adjust export directory\n",
    "%%capture\n",
    "!ns-export pointcloud --load-config outputs/poster/nerfacto/2023-03-18_122407/config.yml --output-dir exports/pcd/ --num-points 1000000 --remove-outliers True --estimate-normals False --use-bounding-box True --bounding-box-min -1 -1 -1 --bounding-box-max 1 1 1"
   ]
  },
  {
   "cell_type": "code",
   "execution_count": null,
   "metadata": {},
   "outputs": [],
   "source": [
    "#  open in separate window\n",
    "%%capture\n",
    "!open3d draw exports/pcd/point_cloud.ply "
   ]
  },
  {
   "attachments": {},
   "cell_type": "markdown",
   "metadata": {},
   "source": [
    "An example view of the point cloud data."
   ]
  },
  {
   "attachments": {},
   "cell_type": "markdown",
   "metadata": {},
   "source": [
    "<img src=\"pics/chair.jpg\" height=\"300\"/>\n"
   ]
  },
  {
   "attachments": {},
   "cell_type": "markdown",
   "metadata": {},
   "source": [
    "## Train your Own Model"
   ]
  },
  {
   "attachments": {},
   "cell_type": "markdown",
   "metadata": {},
   "source": [
    "If you have no phone with LiDAR like me, install [Kiri Engine](https://www.kiriengine.com/) app. Follow the instructions [here](https://docs.nerf.studio/en/latest/quickstart/custom_dataset.html). \n",
    "\n",
    "1. Once engine has processed data, export by sending link to file by email.\n",
    "2. Extract file and place in `export` folder with proper name.\n",
    "3. Adjust `--data` path string below. Change websocket port in case you get an error."
   ]
  },
  {
   "cell_type": "code",
   "execution_count": null,
   "metadata": {},
   "outputs": [],
   "source": [
    "input_dir = 'data/mine/mouse-2'"
   ]
  },
  {
   "cell_type": "code",
   "execution_count": null,
   "metadata": {},
   "outputs": [],
   "source": [
    "!ns-train nerfacto --data $input_dir --viewer.websocket-port=7007 --pipeline.model.predict-normals True"
   ]
  },
  {
   "attachments": {},
   "cell_type": "markdown",
   "metadata": {},
   "source": [
    "Open viewer and monitor progress. Once training is complete, look up output folder an adjust following variables:"
   ]
  },
  {
   "cell_type": "code",
   "execution_count": null,
   "metadata": {},
   "outputs": [],
   "source": [
    "training_id = '2023-03-18_181851'"
   ]
  },
  {
   "cell_type": "code",
   "execution_count": null,
   "metadata": {},
   "outputs": [],
   "source": [
    "import os\n",
    "object_name = os.path.split(input_dir)[-1]\n",
    "output_dir = 'exports/' + object_name"
   ]
  },
  {
   "cell_type": "code",
   "execution_count": null,
   "metadata": {},
   "outputs": [],
   "source": [
    "#%%capture\n",
    "!ns-export pointcloud --load-config outputs/$object_name/nerfacto/$training_id/config.yml --output-dir $output_dir --num-points 1000000 --remove-outliers True --estimate-normals False --use-bounding-box True --bounding-box-min -1 -1 -1 --bounding-box-max 1 1 1"
   ]
  },
  {
   "cell_type": "code",
   "execution_count": null,
   "metadata": {},
   "outputs": [],
   "source": [
    "!open3d draw $output_dir/point_cloud.ply "
   ]
  },
  {
   "attachments": {},
   "cell_type": "markdown",
   "metadata": {},
   "source": [
    "Here an example of a plant on a table."
   ]
  },
  {
   "attachments": {},
   "cell_type": "markdown",
   "metadata": {},
   "source": [
    "\n",
    "<table><tr>\n",
    "<td> <img src=\"pics/plant-0.jpg\" height=\"300\"/>  </td>\n",
    "<td> <img src=\"pics/plant-1.jpg\" height=\"300\"/>  </td>\n",
    "<td> <img src=\"pics/plant-2.jpg\" height=\"300\"/>  </td>\n",
    "</tr></table>\n"
   ]
  },
  {
   "attachments": {},
   "cell_type": "markdown",
   "metadata": {},
   "source": [
    "Here an example of my Logitech vertical mouse to see the geometric accuracy."
   ]
  },
  {
   "attachments": {},
   "cell_type": "markdown",
   "metadata": {},
   "source": [
    "<table><tr>\n",
    "<td> <img src=\"pics/mouse-2-0.jpg\" height=\"300\"/>  </td>\n",
    "<td> <img src=\"pics/mouse-2-1.jpg\" height=\"300\"/>  </td>\n",
    "<td> <img src=\"pics/mouse-2-2.jpg\" height=\"300\"/>  </td>\n",
    "<tr>\n",
    "<td> <img src=\"pics/mouse-2-3.jpg\" height=\"300\"/>  </td>\n",
    "<td> <img src=\"pics/mouse-2-4.jpg\" height=\"300\"/>  </td>\n",
    "<td> <img src=\"pics/mouse-2-5.jpg\" height=\"300\"/>  </td>\n",
    "</tr>\n",
    "</tr></table>"
   ]
  },
  {
   "attachments": {},
   "cell_type": "markdown",
   "metadata": {},
   "source": [
    "Another example with reflective surfaces on a kettle."
   ]
  },
  {
   "attachments": {},
   "cell_type": "markdown",
   "metadata": {},
   "source": [
    "<table><tr>\n",
    "<td> <img src=\"pics/kettle-2-0.jpg\" height=\"300\"/>  </td>\n",
    "<td> <img src=\"pics/kettle-2-1.jpg\" height=\"300\"/>  </td>\n",
    "<td> <img src=\"pics/kettle-2-2.jpg\" height=\"300\"/>  </td>\n",
    "<td> <img src=\"pics/kettle-2-3.jpg\" height=\"300\"/>  </td>\n",
    "</tr></table>\n"
   ]
  },
  {
   "attachments": {},
   "cell_type": "markdown",
   "metadata": {},
   "source": [
    "## Nerfstudio Viewer"
   ]
  },
  {
   "cell_type": "code",
   "execution_count": null,
   "metadata": {},
   "outputs": [],
   "source": [
    "!ns-viewer --load-config outputs/$object_name/nerfacto/$training_id/config.yml"
   ]
  },
  {
   "attachments": {},
   "cell_type": "markdown",
   "metadata": {},
   "source": [
    "## Extract Mesh"
   ]
  },
  {
   "cell_type": "code",
   "execution_count": null,
   "metadata": {},
   "outputs": [],
   "source": [
    "!ns-export tsdf --load-config outputs/$object_name/nerfacto/$training_id/config.yml --output-dir $output_dir"
   ]
  },
  {
   "cell_type": "code",
   "execution_count": null,
   "metadata": {},
   "outputs": [],
   "source": [
    "!ns-export poisson --load-config outputs/$object_name/nerfacto/$training_id/config.yml --output-dir $output_dir"
   ]
  },
  {
   "cell_type": "code",
   "execution_count": null,
   "metadata": {},
   "outputs": [],
   "source": [
    "!open3d draw $output_dir/poisson_mesh.ply "
   ]
  },
  {
   "cell_type": "code",
   "execution_count": null,
   "metadata": {},
   "outputs": [],
   "source": []
  }
 ],
 "metadata": {
  "kernelspec": {
   "display_name": "points",
   "language": "python",
   "name": "python3"
  },
  "language_info": {
   "codemirror_mode": {
    "name": "ipython",
    "version": 3
   },
   "file_extension": ".py",
   "mimetype": "text/x-python",
   "name": "python",
   "nbconvert_exporter": "python",
   "pygments_lexer": "ipython3",
   "version": "3.7.15"
  },
  "orig_nbformat": 4
 },
 "nbformat": 4,
 "nbformat_minor": 2
}
