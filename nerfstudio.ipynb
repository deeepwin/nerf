{
 "cells": [
  {
   "attachments": {},
   "cell_type": "markdown",
   "metadata": {},
   "source": [
    "# Train your own Model with Nerf Studio from Video"
   ]
  },
  {
   "attachments": {},
   "cell_type": "markdown",
   "metadata": {},
   "source": [
    "Author: Deeepwin  \n",
    "Date: 18.03.2023 \n",
    "***"
   ]
  },
  {
   "attachments": {},
   "cell_type": "markdown",
   "metadata": {},
   "source": [
    "## Installation"
   ]
  },
  {
   "attachments": {},
   "cell_type": "markdown",
   "metadata": {},
   "source": [
    "This installation instructions explains in how to install Nerfstudio in a Conda enviroment that has a separte CUDA installtion. It makes the installation of Nerfstudio a bit more tricky. In my case I have installed CUDA version 11.3 in Conda which I want to use for this project. The Conda environment is called `points`. On the Ubuntu installation I run CUDA 12.1."
   ]
  },
  {
   "attachments": {},
   "cell_type": "markdown",
   "metadata": {},
   "source": [
    "### Checking CUDA Installation"
   ]
  },
  {
   "attachments": {},
   "cell_type": "markdown",
   "metadata": {},
   "source": [
    "Make sure you have installed CUDA toolkit in Conda."
   ]
  },
  {
   "cell_type": "code",
   "execution_count": null,
   "metadata": {},
   "outputs": [],
   "source": [
    "!conda install -c \"nvidia/label/cuda-11.3.1\" cuda-toolkit\n",
    "!conda install -c \"nvidia/label/cuda-11.3.1\" cuda-nvcc"
   ]
  },
  {
   "cell_type": "code",
   "execution_count": null,
   "metadata": {},
   "outputs": [],
   "source": [
    "# check CUDA versions, must be 11.3.1\n",
    "!conda list cudatoolkit\n",
    "!conda list cudnn\n",
    "!conda list cuda-nvcc"
   ]
  },
  {
   "cell_type": "code",
   "execution_count": null,
   "metadata": {},
   "outputs": [],
   "source": [
    "# check Pytorch version, must be 1.13.1\n",
    "torch_version = !pip show torch\n",
    "torch_version[1]"
   ]
  },
  {
   "attachments": {},
   "cell_type": "markdown",
   "metadata": {},
   "source": [
    "Pytorch automatically installs nvidia_cublas_cu11, which will cause an error in the installation of Nerfstudio. That's why we need to remove it here."
   ]
  },
  {
   "cell_type": "code",
   "execution_count": null,
   "metadata": {},
   "outputs": [],
   "source": [
    "!pip uninstall -y nvidia_cublas_cu11"
   ]
  },
  {
   "attachments": {},
   "cell_type": "markdown",
   "metadata": {},
   "source": [
    "### Setup Tiny CUDA NN"
   ]
  },
  {
   "attachments": {},
   "cell_type": "markdown",
   "metadata": {},
   "source": [
    "For CUDA version 11.3 you need g++ version 9 (max version is 10.2.1), see [here](https://stackoverflow.com/questions/6622454/cuda-incompatible-with-my-gcc-version). General instructions in how to setup different versions of g++ can be found [here](https://tuxamito.com/wiki/index.php/Installing_newer_GCC_versions_in_Ubuntu)."
   ]
  },
  {
   "cell_type": "code",
   "execution_count": null,
   "metadata": {},
   "outputs": [],
   "source": [
    "!sudo apt -y install g++-9\n",
    "!sudo update-alternatives --install /usr/bin/g++ g++ /usr/bin/g++-9 9\n",
    "!sudo update-alternatives --config g++\n",
    "!g++ --version\n"
   ]
  },
  {
   "cell_type": "code",
   "execution_count": null,
   "metadata": {},
   "outputs": [],
   "source": [
    "!sudo apt -y install gcc-9\n",
    "!sudo update-alternatives --install /usr/bin/gcc gcc /usr/bin/gcc-9 9\n",
    "!sudo update-alternatives --config gcc\n",
    "!gcc --version"
   ]
  },
  {
   "attachments": {},
   "cell_type": "markdown",
   "metadata": {},
   "source": [
    "Now set CUDA_HOME enviroment variable. Otherwise you cannot install `tiny-cuda-nn`. Update path according to your Conda installation."
   ]
  },
  {
   "cell_type": "code",
   "execution_count": null,
   "metadata": {},
   "outputs": [],
   "source": [
    "!conda env config vars set CUDA_HOME=\"/home/martin/anaconda3/envs/points/lib/\"\n",
    "!conda env config vars list"
   ]
  },
  {
   "attachments": {},
   "cell_type": "markdown",
   "metadata": {},
   "source": [
    "Install `tiny-cuda-nn`"
   ]
  },
  {
   "cell_type": "code",
   "execution_count": null,
   "metadata": {},
   "outputs": [],
   "source": [
    "!pip install git+https://github.com/NVlabs/tiny-cuda-nn/#subdirectory=bindings/torch"
   ]
  },
  {
   "attachments": {},
   "cell_type": "markdown",
   "metadata": {},
   "source": [
    "Finally install Nerfstudio see [website](https://docs.nerf.studio/en/latest/quickstart/installation.html)."
   ]
  },
  {
   "cell_type": "code",
   "execution_count": null,
   "metadata": {},
   "outputs": [],
   "source": [
    "%%capture\n",
    "!pip install -y nerfstudio"
   ]
  },
  {
   "attachments": {},
   "cell_type": "markdown",
   "metadata": {},
   "source": [
    "### Install Tools"
   ]
  },
  {
   "cell_type": "code",
   "execution_count": null,
   "metadata": {},
   "outputs": [],
   "source": [
    "!sudo apt install colmap"
   ]
  },
  {
   "attachments": {},
   "cell_type": "markdown",
   "metadata": {},
   "source": [
    "## Train First Model"
   ]
  },
  {
   "cell_type": "code",
   "execution_count": null,
   "metadata": {},
   "outputs": [],
   "source": [
    "%%capture\n",
    "!ns-download-data nerfstudio --capture-name=poster"
   ]
  },
  {
   "attachments": {},
   "cell_type": "markdown",
   "metadata": {},
   "source": [
    "Lets train."
   ]
  },
  {
   "cell_type": "code",
   "execution_count": null,
   "metadata": {},
   "outputs": [],
   "source": [
    "!ns-train nerfacto --data data/nerfstudio/poster"
   ]
  },
  {
   "attachments": {},
   "cell_type": "markdown",
   "metadata": {},
   "source": [
    "To export as point cloud run:"
   ]
  },
  {
   "cell_type": "code",
   "execution_count": null,
   "metadata": {},
   "outputs": [],
   "source": [
    "%%capture\n",
    "!ns-export pointcloud --load-config outputs/poster/nerfacto/2023-03-18_122407/config.yml --output-dir exports/pcd/ --num-points 1000000 --remove-outliers True --estimate-normals False --use-bounding-box True --bounding-box-min -1 -1 -1 --bounding-box-max 1 1 1"
   ]
  },
  {
   "cell_type": "code",
   "execution_count": null,
   "metadata": {},
   "outputs": [],
   "source": [
    "%%capture\n",
    "\n",
    "# show  point cloud in separate window\n",
    "!open3d draw exports/pcd/point_cloud.ply "
   ]
  },
  {
   "cell_type": "code",
   "execution_count": null,
   "metadata": {},
   "outputs": [],
   "source": [
    "# as python code\n",
    "if False:\n",
    "    import open3d as o3d\n",
    "\n",
    "    pcd = o3d.io.read_point_cloud(\"exports/pcd/point_cloud.ply\")\n",
    "    o3d.visualization.draw_geometries([pcd])"
   ]
  },
  {
   "attachments": {},
   "cell_type": "markdown",
   "metadata": {},
   "source": [
    "## Using own Data"
   ]
  },
  {
   "attachments": {},
   "cell_type": "markdown",
   "metadata": {},
   "source": [
    "If you have no phone with LiDAR like me, install [Kiri Engine](https://www.kiriengine.com/) app. Follow the instructions [here](https://docs.nerf.studio/en/latest/quickstart/custom_dataset.html). Download .zip file, unzip and place in `export` folder. Afterwards run:"
   ]
  },
  {
   "cell_type": "code",
   "execution_count": 3,
   "metadata": {},
   "outputs": [
    {
     "name": "stdout",
     "output_type": "stream",
     "text": [
      "Step (% Done)       Train Iter (time)    ETA (time)           Train Rays / Sec     Vis Rays / Sec        \u001b[0m\n",
      "-------------------------------------------------------------------------------------------------------- \u001b[0m\n",
      "8920 (29.73%)       23.087 ms            8 m, 6 s             181.65 K                                   \u001b[0m\n",
      "8930 (29.77%)       23.450 ms            8 m, 14 s            179.77 K                                   \u001b[0m\n",
      "8940 (29.80%)       22.912 ms            8 m, 2 s             183.05 K                                   \u001b[0m\n",
      "8950 (29.83%)       22.880 ms            8 m, 1 s             183.72 K                                   \u001b[0m\n",
      "8960 (29.87%)       23.594 ms            8 m, 16 s            178.94 K                                   \u001b[0m\n",
      "8970 (29.90%)       23.323 ms            8 m, 10 s            179.55 K                                   \u001b[0m\n",
      "8980 (29.93%)       22.426 ms            7 m, 51 s            185.73 K                                   \u001b[0m\n",
      "8990 (29.97%)       23.157 ms            8 m, 6 s             181.18 K                                   \u001b[0m\n",
      "9000 (30.00%)       23.688 ms            8 m, 17 s            176.96 K                                   \u001b[0m\n",
      "9010 (30.03%)       23.754 ms            8 m, 18 s            176.64 K                                   \u001b[0m\n",
      "----------------------------------------------------------------------------------------------------     \u001b[0m\n",
      "\u001b[6;30;42mViewer at: https://viewer.nerf.studio/versions/23-03-9-0/?websocket_url=ws://localhost:7008              \u001b[0m\n",
      "Step (% Done)       Train Iter (time)    ETA (time)           Train Rays / Sec     Vis Rays / Sec        \u001b[0m\n",
      "-------------------------------------------------------------------------------------------------------- \u001b[0m\n",
      "8930 (29.77%)       23.450 ms            8 m, 14 s            179.77 K                                   \u001b[0m\n",
      "8940 (29.80%)       22.912 ms            8 m, 2 s             183.05 K                                   \u001b[0m\n",
      "8950 (29.83%)       22.880 ms            8 m, 1 s             183.72 K                                   \u001b[0m\n",
      "8960 (29.87%)       23.594 ms            8 m, 16 s            178.94 K                                   \u001b[0m\n",
      "8970 (29.90%)       23.323 ms            8 m, 10 s            179.55 K                                   \u001b[0m\n",
      "8980 (29.93%)       22.426 ms            7 m, 51 s            185.73 K                                   \u001b[0m\n",
      "8990 (29.97%)       23.157 ms            8 m, 6 s             181.18 K                                   \u001b[0m\n",
      "9000 (30.00%)       23.688 ms            8 m, 17 s            176.96 K                                   \u001b[0m\n",
      "9010 (30.03%)       23.754 ms            8 m, 18 s            176.64 K                                   \u001b[0m\n",
      "9020 (30.07%)       24.374 ms            8 m, 31 s            172.94 K                                   \u001b[0m\n",
      "----------------------------------------------------------------------------------------------------     \u001b[0m\n",
      "\u001b[6;30;42mViewer at: https://viewer.nerf.studio/versions/23-03-9-0/?websocket_url=ws://localhost:7008              \u001b[0m\n",
      "Step (% Done)       Train Iter (time)    ETA (time)           Train Rays / Sec     Vis Rays / Sec        \u001b[0m\n",
      "-------------------------------------------------------------------------------------------------------- \u001b[0m\n",
      "8940 (29.80%)       22.912 ms            8 m, 2 s             183.05 K                                   \u001b[0m\n",
      "8950 (29.83%)       22.880 ms            8 m, 1 s             183.72 K                                   \u001b[0m\n",
      "8960 (29.87%)       23.594 ms            8 m, 16 s            178.94 K                                   \u001b[0m\n",
      "8970 (29.90%)       23.323 ms            8 m, 10 s            179.55 K                                   \u001b[0m\n",
      "8980 (29.93%)       22.426 ms            7 m, 51 s            185.73 K                                   \u001b[0m\n",
      "8990 (29.97%)       23.157 ms            8 m, 6 s             181.18 K                                   \u001b[0m\n",
      "9000 (30.00%)       23.688 ms            8 m, 17 s            176.96 K                                   \u001b[0m\n",
      "9010 (30.03%)       23.754 ms            8 m, 18 s            176.64 K                                   \u001b[0m\n",
      "9020 (30.07%)       24.374 ms            8 m, 31 s            172.94 K                                   \u001b[0m\n",
      "9030 (30.10%)       23.819 ms            8 m, 19 s            175.97 K             687.01 K              \u001b[0m\n",
      "----------------------------------------------------------------------------------------------------     \u001b[0m\n",
      "\u001b[6;30;42mViewer at: https://viewer.nerf.studio/versions/23-03-9-0/?websocket_url=ws://localhost:7008              \u001b[0m\n",
      "Step (% Done)       Train Iter (time)    ETA (time)           Train Rays / Sec     Vis Rays / Sec        \u001b[0m\n",
      "-------------------------------------------------------------------------------------------------------- \u001b[0m\n",
      "8950 (29.83%)       22.880 ms            8 m, 1 s             183.72 K                                   \u001b[0m\n",
      "8960 (29.87%)       23.594 ms            8 m, 16 s            178.94 K                                   \u001b[0m\n",
      "8970 (29.90%)       23.323 ms            8 m, 10 s            179.55 K                                   \u001b[0m\n",
      "8980 (29.93%)       22.426 ms            7 m, 51 s            185.73 K                                   \u001b[0m\n",
      "8990 (29.97%)       23.157 ms            8 m, 6 s             181.18 K                                   \u001b[0m\n",
      "9000 (30.00%)       23.688 ms            8 m, 17 s            176.96 K                                   \u001b[0m\n",
      "9010 (30.03%)       23.754 ms            8 m, 18 s            176.64 K                                   \u001b[0m\n",
      "9020 (30.07%)       24.374 ms            8 m, 31 s            172.94 K                                   \u001b[0m\n",
      "9030 (30.10%)       23.819 ms            8 m, 19 s            175.97 K             687.01 K              \u001b[0m\n",
      "9040 (30.13%)       23.424 ms            8 m, 10 s            177.99 K                                   \u001b[0m\n",
      "----------------------------------------------------------------------------------------------------     \u001b[0m\n",
      "\u001b[6;30;42mViewer at: https://viewer.nerf.studio/versions/23-03-9-0/?websocket_url=ws://localhost:7008              \u001b[0m\n",
      "Step (% Done)       Train Iter (time)    ETA (time)           Train Rays / Sec     Vis Rays / Sec        \u001b[0m\n",
      "-------------------------------------------------------------------------------------------------------- \u001b[0m\n",
      "8960 (29.87%)       23.594 ms            8 m, 16 s            178.94 K                                   \u001b[0m\n",
      "8970 (29.90%)       23.323 ms            8 m, 10 s            179.55 K                                   \u001b[0m\n",
      "8980 (29.93%)       22.426 ms            7 m, 51 s            185.73 K                                   \u001b[0m\n",
      "8990 (29.97%)       23.157 ms            8 m, 6 s             181.18 K                                   \u001b[0m\n",
      "9000 (30.00%)       23.688 ms            8 m, 17 s            176.96 K                                   \u001b[0m\n",
      "9010 (30.03%)       23.754 ms            8 m, 18 s            176.64 K                                   \u001b[0m\n",
      "9020 (30.07%)       24.374 ms            8 m, 31 s            172.94 K                                   \u001b[0m\n",
      "9030 (30.10%)       23.819 ms            8 m, 19 s            175.97 K             687.01 K              \u001b[0m\n",
      "9040 (30.13%)       23.424 ms            8 m, 10 s            177.99 K                                   \u001b[0m\n",
      "9050 (30.17%)       23.899 ms            8 m, 20 s            175.47 K                                   \u001b[0m\n",
      "----------------------------------------------------------------------------------------------------     \u001b[0m\n",
      "\u001b[6;30;42mViewer at: https://viewer.nerf.studio/versions/23-03-9-0/?websocket_url=ws://localhost:7008              \u001b[0m\n",
      "Step (% Done)       Train Iter (time)    ETA (time)           Train Rays / Sec     Vis Rays / Sec        \u001b[0m\n",
      "-------------------------------------------------------------------------------------------------------- \u001b[0m\n",
      "8970 (29.90%)       23.323 ms            8 m, 10 s            179.55 K                                   \u001b[0m\n",
      "8980 (29.93%)       22.426 ms            7 m, 51 s            185.73 K                                   \u001b[0m\n",
      "8990 (29.97%)       23.157 ms            8 m, 6 s             181.18 K                                   \u001b[0m\n",
      "9000 (30.00%)       23.688 ms            8 m, 17 s            176.96 K                                   \u001b[0m\n",
      "9010 (30.03%)       23.754 ms            8 m, 18 s            176.64 K                                   \u001b[0m\n",
      "9020 (30.07%)       24.374 ms            8 m, 31 s            172.94 K                                   \u001b[0m\n",
      "9030 (30.10%)       23.819 ms            8 m, 19 s            175.97 K             687.01 K              \u001b[0m\n",
      "9040 (30.13%)       23.424 ms            8 m, 10 s            177.99 K                                   \u001b[0m\n",
      "9050 (30.17%)       23.899 ms            8 m, 20 s            175.47 K                                   \u001b[0m\n",
      "9060 (30.20%)       23.548 ms            8 m, 13 s            178.01 K                                   \u001b[0m\n",
      "----------------------------------------------------------------------------------------------------     \u001b[0m\n",
      "\u001b[6;30;42mViewer at: https://viewer.nerf.studio/versions/23-03-9-0/?websocket_url=ws://localhost:7008              \u001b[0m\n",
      "Step (% Done)       Train Iter (time)    ETA (time)           Train Rays / Sec     Vis Rays / Sec        \u001b[0m\n",
      "-------------------------------------------------------------------------------------------------------- \u001b[0m\n",
      "8980 (29.93%)       22.426 ms            7 m, 51 s            185.73 K                                   \u001b[0m\n",
      "8990 (29.97%)       23.157 ms            8 m, 6 s             181.18 K                                   \u001b[0m\n",
      "9000 (30.00%)       23.688 ms            8 m, 17 s            176.96 K                                   \u001b[0m\n",
      "9010 (30.03%)       23.754 ms            8 m, 18 s            176.64 K                                   \u001b[0m\n",
      "9020 (30.07%)       24.374 ms            8 m, 31 s            172.94 K                                   \u001b[0m\n",
      "9030 (30.10%)       23.819 ms            8 m, 19 s            175.97 K             687.01 K              \u001b[0m\n",
      "9040 (30.13%)       23.424 ms            8 m, 10 s            177.99 K                                   \u001b[0m\n",
      "9050 (30.17%)       23.899 ms            8 m, 20 s            175.47 K                                   \u001b[0m\n",
      "9060 (30.20%)       23.548 ms            8 m, 13 s            178.01 K                                   \u001b[0m\n",
      "9070 (30.23%)       23.730 ms            8 m, 16 s            176.83 K                                   \u001b[0m\n",
      "----------------------------------------------------------------------------------------------------     \u001b[0m\n",
      "\u001b[6;30;42mViewer at: https://viewer.nerf.studio/versions/23-03-9-0/?websocket_url=ws://localhost:7008              \u001b[0m\n",
      "Step (% Done)       Train Iter (time)    ETA (time)           Train Rays / Sec     Vis Rays / Sec        \u001b[0m\n",
      "-------------------------------------------------------------------------------------------------------- \u001b[0m\n",
      "8990 (29.97%)       23.157 ms            8 m, 6 s             181.18 K                                   \u001b[0m\n",
      "9000 (30.00%)       23.688 ms            8 m, 17 s            176.96 K                                   \u001b[0m\n",
      "9010 (30.03%)       23.754 ms            8 m, 18 s            176.64 K                                   \u001b[0m\n",
      "9020 (30.07%)       24.374 ms            8 m, 31 s            172.94 K                                   \u001b[0m\n",
      "9030 (30.10%)       23.819 ms            8 m, 19 s            175.97 K             687.01 K              \u001b[0m\n",
      "9040 (30.13%)       23.424 ms            8 m, 10 s            177.99 K                                   \u001b[0m\n",
      "9050 (30.17%)       23.899 ms            8 m, 20 s            175.47 K                                   \u001b[0m\n",
      "9060 (30.20%)       23.548 ms            8 m, 13 s            178.01 K                                   \u001b[0m\n",
      "9070 (30.23%)       23.730 ms            8 m, 16 s            176.83 K                                   \u001b[0m\n",
      "9080 (30.27%)       23.950 ms            8 m, 21 s            174.96 K                                   \u001b[0m\n",
      "----------------------------------------------------------------------------------------------------     \u001b[0m\n",
      "\u001b[6;30;42mViewer at: https://viewer.nerf.studio/versions/23-03-9-0/?websocket_url=ws://localhost:7008              \u001b[0m\n",
      "Step (% Done)       Train Iter (time)    ETA (time)           Train Rays / Sec     Vis Rays / Sec        \u001b[0m\n",
      "-------------------------------------------------------------------------------------------------------- \u001b[0m\n",
      "9000 (30.00%)       23.688 ms            8 m, 17 s            176.96 K                                   \u001b[0m\n",
      "9010 (30.03%)       23.754 ms            8 m, 18 s            176.64 K                                   \u001b[0m\n",
      "9020 (30.07%)       24.374 ms            8 m, 31 s            172.94 K                                   \u001b[0m\n",
      "9030 (30.10%)       23.819 ms            8 m, 19 s            175.97 K             687.01 K              \u001b[0m\n",
      "9040 (30.13%)       23.424 ms            8 m, 10 s            177.99 K                                   \u001b[0m\n",
      "9050 (30.17%)       23.899 ms            8 m, 20 s            175.47 K                                   \u001b[0m\n",
      "9060 (30.20%)       23.548 ms            8 m, 13 s            178.01 K                                   \u001b[0m\n",
      "9070 (30.23%)       23.730 ms            8 m, 16 s            176.83 K                                   \u001b[0m\n",
      "9080 (30.27%)       23.950 ms            8 m, 21 s            174.96 K                                   \u001b[0m\n",
      "9090 (30.30%)       23.265 ms            8 m, 6 s             178.65 K                                   \u001b[0m\n",
      "----------------------------------------------------------------------------------------------------     \u001b[0m\n",
      "\u001b[6;30;42mViewer at: https://viewer.nerf.studio/versions/23-03-9-0/?websocket_url=ws://localhost:7008              \u001b[0m\n",
      "Step (% Done)       Train Iter (time)    ETA (time)           Train Rays / Sec     Vis Rays / Sec        \u001b[0m\n",
      "-------------------------------------------------------------------------------------------------------- \u001b[0m\n",
      "9010 (30.03%)       23.754 ms            8 m, 18 s            176.64 K                                   \u001b[0m\n",
      "9020 (30.07%)       24.374 ms            8 m, 31 s            172.94 K                                   \u001b[0m\n",
      "9030 (30.10%)       23.819 ms            8 m, 19 s            175.97 K             687.01 K              \u001b[0m\n",
      "9040 (30.13%)       23.424 ms            8 m, 10 s            177.99 K                                   \u001b[0m\n",
      "9050 (30.17%)       23.899 ms            8 m, 20 s            175.47 K                                   \u001b[0m\n",
      "9060 (30.20%)       23.548 ms            8 m, 13 s            178.01 K                                   \u001b[0m\n",
      "9070 (30.23%)       23.730 ms            8 m, 16 s            176.83 K                                   \u001b[0m\n",
      "9080 (30.27%)       23.950 ms            8 m, 21 s            174.96 K                                   \u001b[0m\n",
      "9090 (30.30%)       23.265 ms            8 m, 6 s             178.65 K                                   \u001b[0m\n",
      "9100 (30.33%)       23.606 ms            8 m, 13 s            177.47 K                                   \u001b[0m\n",
      "----------------------------------------------------------------------------------------------------     \u001b[0m\n",
      "\u001b[6;30;42mViewer at: https://viewer.nerf.studio/versions/23-03-9-0/?websocket_url=ws://localhost:7008              \u001b[0m\n",
      "Step (% Done)       Train Iter (time)    ETA (time)           Train Rays / Sec     Vis Rays / Sec        \u001b[0m\n",
      "-------------------------------------------------------------------------------------------------------- \u001b[0m\n",
      "9020 (30.07%)       24.374 ms            8 m, 31 s            172.94 K                                   \u001b[0m\n",
      "9030 (30.10%)       23.819 ms            8 m, 19 s            175.97 K             687.01 K              \u001b[0m\n",
      "9040 (30.13%)       23.424 ms            8 m, 10 s            177.99 K                                   \u001b[0m\n",
      "9050 (30.17%)       23.899 ms            8 m, 20 s            175.47 K                                   \u001b[0m\n",
      "9060 (30.20%)       23.548 ms            8 m, 13 s            178.01 K                                   \u001b[0m\n",
      "9070 (30.23%)       23.730 ms            8 m, 16 s            176.83 K                                   \u001b[0m\n",
      "9080 (30.27%)       23.950 ms            8 m, 21 s            174.96 K                                   \u001b[0m\n",
      "9090 (30.30%)       23.265 ms            8 m, 6 s             178.65 K                                   \u001b[0m\n",
      "9100 (30.33%)       23.606 ms            8 m, 13 s            177.47 K                                   \u001b[0m\n",
      "9110 (30.37%)       23.724 ms            8 m, 15 s            177.68 K                                   \u001b[0m\n",
      "----------------------------------------------------------------------------------------------------     \u001b[0m\n",
      "\u001b[6;30;42mViewer at: https://viewer.nerf.studio/versions/23-03-9-0/?websocket_url=ws://localhost:7008              \u001b[0m\n",
      "Step (% Done)       Train Iter (time)    ETA (time)           Train Rays / Sec     Vis Rays / Sec        \u001b[0m\n",
      "-------------------------------------------------------------------------------------------------------- \u001b[0m\n",
      "9030 (30.10%)       23.819 ms            8 m, 19 s            175.97 K             687.01 K              \u001b[0m\n",
      "9040 (30.13%)       23.424 ms            8 m, 10 s            177.99 K                                   \u001b[0m\n",
      "9050 (30.17%)       23.899 ms            8 m, 20 s            175.47 K                                   \u001b[0m\n",
      "9060 (30.20%)       23.548 ms            8 m, 13 s            178.01 K                                   \u001b[0m\n",
      "9070 (30.23%)       23.730 ms            8 m, 16 s            176.83 K                                   \u001b[0m\n",
      "9080 (30.27%)       23.950 ms            8 m, 21 s            174.96 K                                   \u001b[0m\n",
      "9090 (30.30%)       23.265 ms            8 m, 6 s             178.65 K                                   \u001b[0m\n",
      "9100 (30.33%)       23.606 ms            8 m, 13 s            177.47 K                                   \u001b[0m\n",
      "9110 (30.37%)       23.724 ms            8 m, 15 s            177.68 K                                   \u001b[0m\n",
      "9120 (30.40%)       22.968 ms            7 m, 59 s            182.50 K                                   \u001b[0m\n",
      "----------------------------------------------------------------------------------------------------     \u001b[0m\n",
      "\u001b[6;30;42mViewer at: https://viewer.nerf.studio/versions/23-03-9-0/?websocket_url=ws://localhost:7008              \u001b[0m\n",
      "Step (% Done)       Train Iter (time)    ETA (time)           Train Rays / Sec     Vis Rays / Sec        \u001b[0m\n",
      "-------------------------------------------------------------------------------------------------------- \u001b[0m\n",
      "9040 (30.13%)       23.424 ms            8 m, 10 s            177.99 K                                   \u001b[0m\n",
      "9050 (30.17%)       23.899 ms            8 m, 20 s            175.47 K                                   \u001b[0m\n",
      "9060 (30.20%)       23.548 ms            8 m, 13 s            178.01 K                                   \u001b[0m\n",
      "9070 (30.23%)       23.730 ms            8 m, 16 s            176.83 K                                   \u001b[0m\n",
      "9080 (30.27%)       23.950 ms            8 m, 21 s            174.96 K                                   \u001b[0m\n",
      "9090 (30.30%)       23.265 ms            8 m, 6 s             178.65 K                                   \u001b[0m\n",
      "9100 (30.33%)       23.606 ms            8 m, 13 s            177.47 K                                   \u001b[0m\n",
      "9110 (30.37%)       23.724 ms            8 m, 15 s            177.68 K                                   \u001b[0m\n",
      "9120 (30.40%)       22.968 ms            7 m, 59 s            182.50 K                                   \u001b[0m\n",
      "9130 (30.43%)       23.050 ms            8 m, 1 s             182.25 K                                   \u001b[0m\n",
      "----------------------------------------------------------------------------------------------------     \u001b[0m\n",
      "\u001b[6;30;42mViewer at: https://viewer.nerf.studio/versions/23-03-9-0/?websocket_url=ws://localhost:7008              \u001b[0m\n",
      "Step (% Done)       Train Iter (time)    ETA (time)           Train Rays / Sec     Vis Rays / Sec        \u001b[0m\n",
      "-------------------------------------------------------------------------------------------------------- \u001b[0m\n",
      "9050 (30.17%)       23.899 ms            8 m, 20 s            175.47 K                                   \u001b[0m\n",
      "9060 (30.20%)       23.548 ms            8 m, 13 s            178.01 K                                   \u001b[0m\n",
      "9070 (30.23%)       23.730 ms            8 m, 16 s            176.83 K                                   \u001b[0m\n",
      "9080 (30.27%)       23.950 ms            8 m, 21 s            174.96 K                                   \u001b[0m\n",
      "9090 (30.30%)       23.265 ms            8 m, 6 s             178.65 K                                   \u001b[0m\n",
      "9100 (30.33%)       23.606 ms            8 m, 13 s            177.47 K                                   \u001b[0m\n",
      "9110 (30.37%)       23.724 ms            8 m, 15 s            177.68 K                                   \u001b[0m\n",
      "9120 (30.40%)       22.968 ms            7 m, 59 s            182.50 K                                   \u001b[0m\n",
      "9130 (30.43%)       23.050 ms            8 m, 1 s             182.25 K                                   \u001b[0m\n",
      "9140 (30.47%)       24.203 ms            8 m, 24 s            174.22 K                                   \u001b[0m\n",
      "----------------------------------------------------------------------------------------------------     \u001b[0m\n",
      "\u001b[6;30;42mViewer at: https://viewer.nerf.studio/versions/23-03-9-0/?websocket_url=ws://localhost:7008              \u001b[0m\n",
      "Step (% Done)       Train Iter (time)    ETA (time)           Train Rays / Sec     Vis Rays / Sec        \u001b[0m\n",
      "-------------------------------------------------------------------------------------------------------- \u001b[0m\n",
      "9060 (30.20%)       23.548 ms            8 m, 13 s            178.01 K                                   \u001b[0m\n",
      "9070 (30.23%)       23.730 ms            8 m, 16 s            176.83 K                                   \u001b[0m\n",
      "9080 (30.27%)       23.950 ms            8 m, 21 s            174.96 K                                   \u001b[0m\n",
      "9090 (30.30%)       23.265 ms            8 m, 6 s             178.65 K                                   \u001b[0m\n",
      "9100 (30.33%)       23.606 ms            8 m, 13 s            177.47 K                                   \u001b[0m\n",
      "9110 (30.37%)       23.724 ms            8 m, 15 s            177.68 K                                   \u001b[0m\n",
      "9120 (30.40%)       22.968 ms            7 m, 59 s            182.50 K                                   \u001b[0m\n",
      "9130 (30.43%)       23.050 ms            8 m, 1 s             182.25 K                                   \u001b[0m\n",
      "9140 (30.47%)       24.203 ms            8 m, 24 s            174.22 K                                   \u001b[0m\n",
      "9150 (30.50%)       24.076 ms            8 m, 21 s            173.76 K                                   \u001b[0m\n",
      "----------------------------------------------------------------------------------------------------     \u001b[0m\n",
      "\u001b[6;30;42mViewer at: https://viewer.nerf.studio/versions/23-03-9-0/?websocket_url=ws://localhost:7008              \u001b[0m\n"
     ]
    }
   ],
   "source": [
    "!ns-train nerfacto --data data/mine/mouse --viewer.websocket-port=7008"
   ]
  },
  {
   "attachments": {},
   "cell_type": "markdown",
   "metadata": {},
   "source": [
    "Open viewer and monitor progress. Once training is complete, go to expert and copy export command to field below:"
   ]
  },
  {
   "cell_type": "code",
   "execution_count": null,
   "metadata": {},
   "outputs": [],
   "source": [
    "!ns-export pointcloud --load-config outputs/poster/nerfacto/2023-03-18_122407/config.yml --output-dir exports/pcd/ --num-points 1000000 --remove-outliers True --estimate-normals False --use-bounding-box True --bounding-box-min -1 -1 -1 --bounding-box-max 1 1 1"
   ]
  },
  {
   "cell_type": "code",
   "execution_count": null,
   "metadata": {},
   "outputs": [],
   "source": [
    "%%capture\n",
    "\n",
    "# show  point cloud in separate window\n",
    "!open3d draw exports/mouse/point_cloud.ply "
   ]
  }
 ],
 "metadata": {
  "kernelspec": {
   "display_name": "points",
   "language": "python",
   "name": "python3"
  },
  "language_info": {
   "codemirror_mode": {
    "name": "ipython",
    "version": 3
   },
   "file_extension": ".py",
   "mimetype": "text/x-python",
   "name": "python",
   "nbconvert_exporter": "python",
   "pygments_lexer": "ipython3",
   "version": "3.7.15"
  },
  "orig_nbformat": 4
 },
 "nbformat": 4,
 "nbformat_minor": 2
}
